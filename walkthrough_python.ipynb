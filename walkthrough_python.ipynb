{
 "cells": [
  {
   "cell_type": "markdown",
   "id": "9a71cd9b",
   "metadata": {},
   "source": [
    "# Introduction\n",
    "These two vignettes contain walk-throughs of machine learning development in both R and in Python. \n",
    "These tutorials aim to outline the basic steps in training and assessing ML models.\n",
    "The details presented are not meant to discuss the every detail of best practices in machine learning nor do they necessarily show how to develop the best performing model.\n",
    "Instead, the goals are to provide a clear example of how we go from data to predictions in the ML framework and to illustrate general machine learning principles."
   ]
  },
  {
   "cell_type": "markdown",
   "id": "a5799e22",
   "metadata": {},
   "source": [
    "# A machine learning walkthrough in Python\n",
    "## Loading packages and data"
   ]
  },
  {
   "cell_type": "code",
   "execution_count": null,
   "id": "2c2f18ae",
   "metadata": {},
   "outputs": [],
   "source": [
    "import pandas as pd\n",
    "import numpy as np\n",
    "import xgboost as xgb\n",
    "\n",
    "from sklearn.model_selection import train_test_split\n",
    "from sklearn.metrics import accuracy_score\n",
    "from sklearn.metrics import roc_curve\n",
    "from sklearn.metrics import precision_recall_curve\n",
    "from sklearn.metrics import average_precision_score\n",
    "import sklearn.metrics"
   ]
  },
  {
   "cell_type": "markdown",
   "id": "0c0ba94a",
   "metadata": {},
   "source": [
    "## Data processing\n",
    "We proceed by loading our data into Python.\n",
    "The variable `path_to_data` is the location of the csv file with the data, and the function `pd.read_csv()` will import the data into a data frame.\n",
    "A data frame is a rectangular representation of data where each row represents an observation and each column represents a variable.\n",
    "\n",
    "Each row represents a patient, and the column contains the data for each patient.\n",
    "The data frame contains an identifying `SID` for each patient, the patient's `SEX`, concentrations of different amino acids, alloisoleucine in `Allo`, homocysteine in `Hcys`, and argininosuccinic acid lyase deficiency in `ASA`.\n",
    "The `Class` column contains the \"labels\" normal and abnormal for each PAA profile."
   ]
  },
  {
   "cell_type": "code",
   "execution_count": null,
   "id": "b05dfe47",
   "metadata": {},
   "outputs": [],
   "source": [
    "path_to_data = \"/Users/ed/git/ml_review_paper/data/clc317479-file001.csv\"\n",
    "df = pd.read_csv(path_to_data)\n",
    "df.head()   # print a preview of the data frame"
   ]
  },
  {
   "cell_type": "markdown",
   "id": "463488f7",
   "metadata": {},
   "source": [
    "In order to prepare our data frame for machine learning purposes, we need to prepare our data into a form that the machine learning algorithms will accept.\n",
    "\n",
    "1. We need to get rid any features that we will not input into the algorithm.\n",
    "In this case, we will need to remove the patient identifiers (the `SID` column).\n",
    "We do this by using the `drop()` function to remove the `SID` column\n",
    "\n",
    "2. We need to convert any categorical variables into numerical codes.\n",
    "For example, the `SEX` column has values of `F` for female, `M` for male, and `U` for unidentified.\n",
    "We use the `loc()` function to find the rows with a specific value (e.g. `F`) and then replace it was the appropriate numerical code (e.g. `0`).\n",
    "We do this for all columns with categorical data.\n",
    "\n",
    "3. We separate the features (e.g. all of the concentrations in our data) and the labels (e.g. normal or abnormal) and then save them as a Numpy matrix.\n",
    "The data is saved into a matrix `X`, and the labels are saved into a matrix `Y`."
   ]
  },
  {
   "cell_type": "code",
   "execution_count": null,
   "id": "8806712c",
   "metadata": {},
   "outputs": [],
   "source": [
    "df = df.drop(['SID'], axis = 1)\n",
    "\n",
    "# convert SEX column to numerical codes\n",
    "df.loc[(df['SEX'] == 'F'), 'SEX'] = 0\n",
    "df.loc[(df['SEX'] == 'M'), 'SEX'] = 1\n",
    "df.loc[(df['SEX'] == 'U'), 'SEX'] = 2\n",
    "\n",
    "# convert ASA column to numerical codes\n",
    "df.loc[(df['ASA'] == 'N'), 'ASA'] = 0\n",
    "df.loc[(df['ASA'] == 'Y'), 'ASA'] = 1\n",
    "\n",
    "# convert Allo column to numerical codes\n",
    "df.loc[(df['Allo'] == 'N'), 'Allo'] = 0\n",
    "df.loc[(df['Allo'] == 'Y'), 'Allo'] = 1\n",
    "\n",
    "# convert Hcys column to numerical codes\n",
    "df.loc[(df['Hcys'] == 'N'), 'Hcys'] = 0\n",
    "df.loc[(df['Hcys'] == 'Y'), 'Hcys'] = 1\n",
    "\n",
    "# convert labels from text to numerical codes \n",
    "df.loc[(df['Class'] == 'No.significant.abnormality.detected.'), 'Class'] = 0\n",
    "df.loc[(df['Class'] == 'X.Abnormal'), 'Class'] = 1\n",
    "\n",
    "# save data as X and labels as Y\n",
    "X = df.iloc[:,:-1].to_numpy()\n",
    "Y = df.iloc[:,-1:].to_numpy()"
   ]
  },
  {
   "cell_type": "markdown",
   "id": "70cd236c",
   "metadata": {},
   "source": [
    "## Splitting our data into a training, test, and validation set"
   ]
  },
  {
   "cell_type": "code",
   "execution_count": null,
   "id": "23f07a61",
   "metadata": {},
   "outputs": [],
   "source": [
    "SEED = 7\n",
    "TEST_SIZE = 0.30\n",
    "VAL_SIZE = 0.20\n",
    "\n",
    "# Split dataset into Train and Test datasets\n",
    "x_train, x_test, y_train, y_test = train_test_split(X,\n",
    "                                                    Y,\n",
    "                                                    test_size = TEST_SIZE,\n",
    "                                                    random_state = SEED)\n",
    "x_train, x_val, y_train, y_val   = train_test_split(x_train,\n",
    "                                                    y_train,\n",
    "                                                    test_size = VAL_SIZE,\n",
    "                                                    random_state = SEED)"
   ]
  },
  {
   "cell_type": "markdown",
   "id": "fd708b14",
   "metadata": {},
   "source": [
    "## ML Training Protocol"
   ]
  },
  {
   "cell_type": "code",
   "execution_count": null,
   "id": "eecbc8d0",
   "metadata": {},
   "outputs": [],
   "source": [
    "model_xgb = xgb.XGBClassifier(\n",
    "  random_state = 7,\n",
    "  n_estimators = 200,\n",
    "  verbosity = 0,\n",
    "  use_label_encoder = False,\n",
    "  learning_rate = 0.1,\n",
    "  objective = 'binary:logistic'\n",
    ")\n",
    "\n",
    "model_xgb.fit(\n",
    "  X=x_train, \n",
    "  y=y_train.flatten(),\n",
    "  eval_set = [(x_train, y_train), (x_val, y_val)],\n",
    "  early_stopping_rounds=10,\n",
    "  eval_metric=[\"logloss\"]\n",
    ")"
   ]
  },
  {
   "cell_type": "code",
   "execution_count": null,
   "id": "78d18808",
   "metadata": {},
   "outputs": [],
   "source": [
    "import matplotlib.pyplot as plt\n",
    "from matplotlib.font_manager import FontProperties\n",
    "\n",
    "\n",
    "results = model_xgb.evals_result()\n",
    "epochs = len(results['validation_0']['logloss'])\n",
    "x_axis = range(0, epochs)\n",
    "\n",
    "fig, axs = plt.subplots(figsize=(7, 4.5), facecolor='w', edgecolor='k')\n",
    "\n",
    "font = FontProperties()\n",
    "font.set_name('Arial')\n",
    "\n",
    "plt.plot(x_axis, results['validation_0']['logloss'],\n",
    "         label='Train', linewidth=1.3);\n",
    "plt.plot(x_axis, results['validation_1']['logloss'],\n",
    "         label='Validation', color='C0',linestyle='--', linewidth=1.3);\n",
    "plt.axvline(x=73, color='r', linestyle='--', linewidth=1);\n",
    "\n",
    "plt.legend();\n",
    "\n",
    "plt.ylabel('Loss');\n",
    "plt.xlabel('Iteration', fontproperties=font, fontsize=12);\n",
    "\n",
    "plt.grid(True)\n",
    "\n",
    "plt.show()"
   ]
  },
  {
   "cell_type": "code",
   "execution_count": null,
   "id": "054d7b55",
   "metadata": {},
   "outputs": [],
   "source": [
    "y_preds = model_xgb.predict(x_test).astype(int)\n",
    "\n",
    "# get prediction probabilities for test data\n",
    "y_probs = model_xgb.predict_proba(x_test).astype(float)\n",
    "\n",
    "y_test = y_test.astype(int)\n",
    "\n",
    "# evaluate predictions\n",
    "accuracy = accuracy_score(y_test, y_preds)\n",
    "print(\"Binomial Classification Accuracy: %.2f%%\" % (accuracy * 100.0))"
   ]
  },
  {
   "cell_type": "code",
   "execution_count": null,
   "id": "b0de716c",
   "metadata": {},
   "outputs": [],
   "source": [
    "precision, recall, _ = precision_recall_curve(y_test, y_probs[:,1])\n",
    "\n",
    "auprc = round(sklearn.metrics.auc(recall, precision), 3)\n",
    "\n",
    "fig, axs = plt.subplots(1,1, figsize=(5, 4), facecolor='w', edgecolor='k')\n",
    "\n",
    "axs.annotate(\n",
    "    \"PRAUC: {0}\".format(auprc), \n",
    "    xy=(0.8,0.1),\n",
    "    xycoords=\"data\",\n",
    "    va=\"center\", \n",
    "    ha=\"center\", \n",
    "    fontsize=18,\n",
    "    bbox=dict(boxstyle=\"round\",fc=\"w\")\n",
    ");\n",
    "plt.plot(precision, recall, label=\"Test\", linewidth=2, linestyle='--');\n",
    "axs.set_xlabel('Recall', fontsize=14);\n",
    "axs.set_ylabel('Precision', fontsize=14);\n",
    "\n",
    "plt.grid(True)\n",
    "plt.show()"
   ]
  },
  {
   "cell_type": "code",
   "execution_count": null,
   "id": "ea045633",
   "metadata": {},
   "outputs": [],
   "source": []
  }
 ],
 "metadata": {
  "kernelspec": {
   "display_name": "Python 3",
   "language": "python",
   "name": "python3"
  },
  "language_info": {
   "codemirror_mode": {
    "name": "ipython",
    "version": 3
   },
   "file_extension": ".py",
   "mimetype": "text/x-python",
   "name": "python",
   "nbconvert_exporter": "python",
   "pygments_lexer": "ipython3",
   "version": "3.8.8"
  }
 },
 "nbformat": 4,
 "nbformat_minor": 5
}
